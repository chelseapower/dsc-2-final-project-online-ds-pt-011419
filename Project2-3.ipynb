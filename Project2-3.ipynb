{
 "cells": [
  {
   "cell_type": "markdown",
   "metadata": {},
   "source": [
    "# Module 2 Final Project Submission - Question 3 of 4\n",
    "\n",
    "* Student name: **Chelsea Power**\n",
    "* Student pace: **part time**\n",
    "* Scheduled project review date/time: **May 10, 2019 at 3:30 pm ET**\n",
    "* Instructor name: **Joe San Pietro**\n",
    "* Blog post URL: **TBD**"
   ]
  },
  {
   "cell_type": "markdown",
   "metadata": {},
   "source": [
    "### Part I: Does the supply region have a statistically significant effect on unit price?\n",
    "\n",
    "**Ho:** There is no difference in mean unit price among supplier regions.\n",
    "\n",
    "**Ha:** There is at least one supplier region with a different mean unit price."
   ]
  },
  {
   "cell_type": "code",
   "execution_count": 2,
   "metadata": {},
   "outputs": [
    {
     "name": "stdout",
     "output_type": "stream",
     "text": [
      "2019-05-10 13:03:05,083 INFO sqlalchemy.engine.base.Engine SELECT CAST('test plain returns' AS VARCHAR(60)) AS anon_1\n",
      "2019-05-10 13:03:05,084 INFO sqlalchemy.engine.base.Engine ()\n",
      "2019-05-10 13:03:05,085 INFO sqlalchemy.engine.base.Engine SELECT CAST('test unicode returns' AS VARCHAR(60)) AS anon_1\n",
      "2019-05-10 13:03:05,086 INFO sqlalchemy.engine.base.Engine ()\n",
      "2019-05-10 13:03:05,087 INFO sqlalchemy.engine.base.Engine \n",
      " SELECT Region, UnitPrice\n",
      " FROM Supplier\n",
      " JOIN Product\n",
      " ON SupplierID\n",
      " \n",
      "2019-05-10 13:03:05,088 INFO sqlalchemy.engine.base.Engine ()\n"
     ]
    }
   ],
   "source": [
    "# Import required libraries\n",
    "import sqlalchemy\n",
    "from sqlalchemy import create_engine\n",
    "from sqlalchemy.orm import Session, sessionmaker\n",
    "import pandas as pd\n",
    "import seaborn as sns\n",
    "import numpy as np\n",
    "import matplotlib.pyplot as plt\n",
    "import scipy.stats as _stats\n",
    "from scipy import stats\n",
    "\n",
    "sns.set_style('whitegrid')\n",
    "\n",
    "%config InlineBackend.figure_format = 'retina'\n",
    "%matplotlib inline\n",
    "\n",
    "# Connect an engine and connect to the Northwind database\n",
    "engine = create_engine(\"sqlite:///Northwind_small.sqlite\", echo=True)\n",
    "\n",
    "# Create session to execute SQL commands\n",
    "Session = sessionmaker(bind=engine)\n",
    "session = Session()\n",
    "con = engine.connect()\n",
    "\n",
    "# Extract Order Detail data as a pandas dataframe using a SQL query\n",
    "df3 = pd.read_sql_query('''\n",
    " SELECT Region, UnitPrice\n",
    " FROM Supplier\n",
    " JOIN Product\n",
    " ON SupplierID\n",
    " ''', engine)"
   ]
  },
  {
   "cell_type": "code",
   "execution_count": 3,
   "metadata": {},
   "outputs": [
    {
     "data": {
      "text/html": [
       "<div>\n",
       "<style scoped>\n",
       "    .dataframe tbody tr th:only-of-type {\n",
       "        vertical-align: middle;\n",
       "    }\n",
       "\n",
       "    .dataframe tbody tr th {\n",
       "        vertical-align: top;\n",
       "    }\n",
       "\n",
       "    .dataframe thead th {\n",
       "        text-align: right;\n",
       "    }\n",
       "</style>\n",
       "<table border=\"1\" class=\"dataframe\">\n",
       "  <thead>\n",
       "    <tr style=\"text-align: right;\">\n",
       "      <th></th>\n",
       "      <th>Region</th>\n",
       "      <th>UnitPrice</th>\n",
       "    </tr>\n",
       "  </thead>\n",
       "  <tbody>\n",
       "    <tr>\n",
       "      <th>0</th>\n",
       "      <td>British Isles</td>\n",
       "      <td>18.0</td>\n",
       "    </tr>\n",
       "    <tr>\n",
       "      <th>1</th>\n",
       "      <td>North America</td>\n",
       "      <td>18.0</td>\n",
       "    </tr>\n",
       "    <tr>\n",
       "      <th>2</th>\n",
       "      <td>North America</td>\n",
       "      <td>18.0</td>\n",
       "    </tr>\n",
       "    <tr>\n",
       "      <th>3</th>\n",
       "      <td>Eastern Asia</td>\n",
       "      <td>18.0</td>\n",
       "    </tr>\n",
       "    <tr>\n",
       "      <th>4</th>\n",
       "      <td>Southern Europe</td>\n",
       "      <td>18.0</td>\n",
       "    </tr>\n",
       "  </tbody>\n",
       "</table>\n",
       "</div>"
      ],
      "text/plain": [
       "            Region  UnitPrice\n",
       "0    British Isles       18.0\n",
       "1    North America       18.0\n",
       "2    North America       18.0\n",
       "3     Eastern Asia       18.0\n",
       "4  Southern Europe       18.0"
      ]
     },
     "execution_count": 3,
     "metadata": {},
     "output_type": "execute_result"
    }
   ],
   "source": [
    "# Display Supplier as a panda dataframe\n",
    "df3.head()"
   ]
  },
  {
   "cell_type": "code",
   "execution_count": 5,
   "metadata": {},
   "outputs": [
    {
     "name": "stdout",
     "output_type": "stream",
     "text": [
      "                 sum_sq      df             F  PR(>F)\n",
      "C(Region)  1.382722e-25    10.0  1.219118e-29     1.0\n",
      "Residual   2.520190e+06  2222.0           NaN     NaN\n"
     ]
    }
   ],
   "source": [
    "import statsmodels.api as sm\n",
    "from statsmodels.formula.api import ols\n",
    "\n",
    "formula = 'UnitPrice ~ C(Region)'\n",
    "lm = ols(formula, df).fit()\n",
    "table = sm.stats.anova_lm(lm, typ=2)\n",
    "print(table)"
   ]
  },
  {
   "cell_type": "markdown",
   "metadata": {},
   "source": [
    "The result **p (1.0) > α**, so we fail to reject the null hypothesis. So if the company decides to switch suppliers (to a cheaper region) the mean unit price will not change."
   ]
  },
  {
   "cell_type": "code",
   "execution_count": null,
   "metadata": {},
   "outputs": [],
   "source": []
  }
 ],
 "metadata": {
  "kernelspec": {
   "display_name": "learn-env",
   "language": "python",
   "name": "learn-env"
  },
  "language_info": {
   "codemirror_mode": {
    "name": "ipython",
    "version": 3
   },
   "file_extension": ".py",
   "mimetype": "text/x-python",
   "name": "python",
   "nbconvert_exporter": "python",
   "pygments_lexer": "ipython3",
   "version": "3.6.6"
  }
 },
 "nbformat": 4,
 "nbformat_minor": 2
}
